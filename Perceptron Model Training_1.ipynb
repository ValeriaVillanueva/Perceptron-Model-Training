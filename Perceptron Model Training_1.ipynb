{
 "cells": [
  {
   "cell_type": "code",
   "execution_count": 103,
   "id": "199bb555",
   "metadata": {},
   "outputs": [],
   "source": [
    "import pandas as pd\n",
    "\n",
    "# Ruta al archivo CSV\n",
    "path = 'C:\\\\Users\\\\valef\\\\Downloads\\\\Social_Network_Ads.csv'\n",
    "# Lee el archivo CSV en un DataFrame llamado \"df\"\n",
    "df = pd.read_csv(path)\n"
   ]
  },
  {
   "cell_type": "code",
   "execution_count": 104,
   "id": "53b47b3b",
   "metadata": {},
   "outputs": [
    {
     "data": {
      "text/html": [
       "<div>\n",
       "<style scoped>\n",
       "    .dataframe tbody tr th:only-of-type {\n",
       "        vertical-align: middle;\n",
       "    }\n",
       "\n",
       "    .dataframe tbody tr th {\n",
       "        vertical-align: top;\n",
       "    }\n",
       "\n",
       "    .dataframe thead th {\n",
       "        text-align: right;\n",
       "    }\n",
       "</style>\n",
       "<table border=\"1\" class=\"dataframe\">\n",
       "  <thead>\n",
       "    <tr style=\"text-align: right;\">\n",
       "      <th></th>\n",
       "      <th>User ID</th>\n",
       "      <th>Gender</th>\n",
       "      <th>Age</th>\n",
       "      <th>EstimatedSalary</th>\n",
       "      <th>Purchased</th>\n",
       "    </tr>\n",
       "  </thead>\n",
       "  <tbody>\n",
       "    <tr>\n",
       "      <th>0</th>\n",
       "      <td>15624510</td>\n",
       "      <td>Male</td>\n",
       "      <td>19</td>\n",
       "      <td>19000</td>\n",
       "      <td>0</td>\n",
       "    </tr>\n",
       "    <tr>\n",
       "      <th>1</th>\n",
       "      <td>15810944</td>\n",
       "      <td>Male</td>\n",
       "      <td>35</td>\n",
       "      <td>20000</td>\n",
       "      <td>0</td>\n",
       "    </tr>\n",
       "    <tr>\n",
       "      <th>2</th>\n",
       "      <td>15668575</td>\n",
       "      <td>Female</td>\n",
       "      <td>26</td>\n",
       "      <td>43000</td>\n",
       "      <td>0</td>\n",
       "    </tr>\n",
       "    <tr>\n",
       "      <th>3</th>\n",
       "      <td>15603246</td>\n",
       "      <td>Female</td>\n",
       "      <td>27</td>\n",
       "      <td>57000</td>\n",
       "      <td>0</td>\n",
       "    </tr>\n",
       "    <tr>\n",
       "      <th>4</th>\n",
       "      <td>15804002</td>\n",
       "      <td>Male</td>\n",
       "      <td>19</td>\n",
       "      <td>76000</td>\n",
       "      <td>0</td>\n",
       "    </tr>\n",
       "  </tbody>\n",
       "</table>\n",
       "</div>"
      ],
      "text/plain": [
       "    User ID  Gender  Age  EstimatedSalary  Purchased\n",
       "0  15624510    Male   19            19000          0\n",
       "1  15810944    Male   35            20000          0\n",
       "2  15668575  Female   26            43000          0\n",
       "3  15603246  Female   27            57000          0\n",
       "4  15804002    Male   19            76000          0"
      ]
     },
     "execution_count": 104,
     "metadata": {},
     "output_type": "execute_result"
    }
   ],
   "source": [
    "df.head() #head tiene por default 5 lineas, hay que poner un número entre los paréntesis"
   ]
  },
  {
   "cell_type": "code",
   "execution_count": 105,
   "id": "ebced22b",
   "metadata": {},
   "outputs": [
    {
     "data": {
      "text/html": [
       "<div>\n",
       "<style scoped>\n",
       "    .dataframe tbody tr th:only-of-type {\n",
       "        vertical-align: middle;\n",
       "    }\n",
       "\n",
       "    .dataframe tbody tr th {\n",
       "        vertical-align: top;\n",
       "    }\n",
       "\n",
       "    .dataframe thead th {\n",
       "        text-align: right;\n",
       "    }\n",
       "</style>\n",
       "<table border=\"1\" class=\"dataframe\">\n",
       "  <thead>\n",
       "    <tr style=\"text-align: right;\">\n",
       "      <th></th>\n",
       "      <th>User ID</th>\n",
       "      <th>Gender</th>\n",
       "      <th>Age</th>\n",
       "      <th>EstimatedSalary</th>\n",
       "      <th>Purchased</th>\n",
       "    </tr>\n",
       "  </thead>\n",
       "  <tbody>\n",
       "    <tr>\n",
       "      <th>395</th>\n",
       "      <td>15691863</td>\n",
       "      <td>Female</td>\n",
       "      <td>46</td>\n",
       "      <td>41000</td>\n",
       "      <td>1</td>\n",
       "    </tr>\n",
       "    <tr>\n",
       "      <th>396</th>\n",
       "      <td>15706071</td>\n",
       "      <td>Male</td>\n",
       "      <td>51</td>\n",
       "      <td>23000</td>\n",
       "      <td>1</td>\n",
       "    </tr>\n",
       "    <tr>\n",
       "      <th>397</th>\n",
       "      <td>15654296</td>\n",
       "      <td>Female</td>\n",
       "      <td>50</td>\n",
       "      <td>20000</td>\n",
       "      <td>1</td>\n",
       "    </tr>\n",
       "    <tr>\n",
       "      <th>398</th>\n",
       "      <td>15755018</td>\n",
       "      <td>Male</td>\n",
       "      <td>36</td>\n",
       "      <td>33000</td>\n",
       "      <td>0</td>\n",
       "    </tr>\n",
       "    <tr>\n",
       "      <th>399</th>\n",
       "      <td>15594041</td>\n",
       "      <td>Female</td>\n",
       "      <td>49</td>\n",
       "      <td>36000</td>\n",
       "      <td>1</td>\n",
       "    </tr>\n",
       "  </tbody>\n",
       "</table>\n",
       "</div>"
      ],
      "text/plain": [
       "      User ID  Gender  Age  EstimatedSalary  Purchased\n",
       "395  15691863  Female   46            41000          1\n",
       "396  15706071    Male   51            23000          1\n",
       "397  15654296  Female   50            20000          1\n",
       "398  15755018    Male   36            33000          0\n",
       "399  15594041  Female   49            36000          1"
      ]
     },
     "execution_count": 105,
     "metadata": {},
     "output_type": "execute_result"
    }
   ],
   "source": [
    "df.tail()\n",
    "#para ver las últimas"
   ]
  },
  {
   "cell_type": "code",
   "execution_count": 106,
   "id": "db9997f8",
   "metadata": {},
   "outputs": [
    {
     "data": {
      "text/html": [
       "<div>\n",
       "<style scoped>\n",
       "    .dataframe tbody tr th:only-of-type {\n",
       "        vertical-align: middle;\n",
       "    }\n",
       "\n",
       "    .dataframe tbody tr th {\n",
       "        vertical-align: top;\n",
       "    }\n",
       "\n",
       "    .dataframe thead th {\n",
       "        text-align: right;\n",
       "    }\n",
       "</style>\n",
       "<table border=\"1\" class=\"dataframe\">\n",
       "  <thead>\n",
       "    <tr style=\"text-align: right;\">\n",
       "      <th></th>\n",
       "      <th>User ID</th>\n",
       "      <th>Age</th>\n",
       "      <th>EstimatedSalary</th>\n",
       "      <th>Purchased</th>\n",
       "    </tr>\n",
       "  </thead>\n",
       "  <tbody>\n",
       "    <tr>\n",
       "      <th>count</th>\n",
       "      <td>4.000000e+02</td>\n",
       "      <td>400.000000</td>\n",
       "      <td>400.000000</td>\n",
       "      <td>400.000000</td>\n",
       "    </tr>\n",
       "    <tr>\n",
       "      <th>mean</th>\n",
       "      <td>1.569154e+07</td>\n",
       "      <td>37.655000</td>\n",
       "      <td>69742.500000</td>\n",
       "      <td>0.357500</td>\n",
       "    </tr>\n",
       "    <tr>\n",
       "      <th>std</th>\n",
       "      <td>7.165832e+04</td>\n",
       "      <td>10.482877</td>\n",
       "      <td>34096.960282</td>\n",
       "      <td>0.479864</td>\n",
       "    </tr>\n",
       "    <tr>\n",
       "      <th>min</th>\n",
       "      <td>1.556669e+07</td>\n",
       "      <td>18.000000</td>\n",
       "      <td>15000.000000</td>\n",
       "      <td>0.000000</td>\n",
       "    </tr>\n",
       "    <tr>\n",
       "      <th>25%</th>\n",
       "      <td>1.562676e+07</td>\n",
       "      <td>29.750000</td>\n",
       "      <td>43000.000000</td>\n",
       "      <td>0.000000</td>\n",
       "    </tr>\n",
       "    <tr>\n",
       "      <th>50%</th>\n",
       "      <td>1.569434e+07</td>\n",
       "      <td>37.000000</td>\n",
       "      <td>70000.000000</td>\n",
       "      <td>0.000000</td>\n",
       "    </tr>\n",
       "    <tr>\n",
       "      <th>75%</th>\n",
       "      <td>1.575036e+07</td>\n",
       "      <td>46.000000</td>\n",
       "      <td>88000.000000</td>\n",
       "      <td>1.000000</td>\n",
       "    </tr>\n",
       "    <tr>\n",
       "      <th>max</th>\n",
       "      <td>1.581524e+07</td>\n",
       "      <td>60.000000</td>\n",
       "      <td>150000.000000</td>\n",
       "      <td>1.000000</td>\n",
       "    </tr>\n",
       "  </tbody>\n",
       "</table>\n",
       "</div>"
      ],
      "text/plain": [
       "            User ID         Age  EstimatedSalary   Purchased\n",
       "count  4.000000e+02  400.000000       400.000000  400.000000\n",
       "mean   1.569154e+07   37.655000     69742.500000    0.357500\n",
       "std    7.165832e+04   10.482877     34096.960282    0.479864\n",
       "min    1.556669e+07   18.000000     15000.000000    0.000000\n",
       "25%    1.562676e+07   29.750000     43000.000000    0.000000\n",
       "50%    1.569434e+07   37.000000     70000.000000    0.000000\n",
       "75%    1.575036e+07   46.000000     88000.000000    1.000000\n",
       "max    1.581524e+07   60.000000    150000.000000    1.000000"
      ]
     },
     "execution_count": 106,
     "metadata": {},
     "output_type": "execute_result"
    }
   ],
   "source": [
    "df.describe()"
   ]
  },
  {
   "cell_type": "code",
   "execution_count": 107,
   "id": "d5b18768",
   "metadata": {},
   "outputs": [
    {
     "data": {
      "text/plain": [
       "(400, 5)"
      ]
     },
     "execution_count": 107,
     "metadata": {},
     "output_type": "execute_result"
    }
   ],
   "source": [
    "df.shape\n",
    "#Filas observaciones\n",
    "#columnas son las features"
   ]
  },
  {
   "cell_type": "code",
   "execution_count": 108,
   "id": "daaac4a3",
   "metadata": {},
   "outputs": [
    {
     "name": "stdout",
     "output_type": "stream",
     "text": [
      "      User ID  Gender  Age  EstimatedSalary  Purchased\n",
      "0    15624510    Male   19            19000          0\n",
      "1    15810944    Male   35            20000          0\n",
      "2    15668575  Female   26            43000          0\n",
      "3    15603246  Female   27            57000          0\n",
      "4    15804002    Male   19            76000          0\n",
      "..        ...     ...  ...              ...        ...\n",
      "395  15691863  Female   46            41000          1\n",
      "396  15706071    Male   51            23000          1\n",
      "397  15654296  Female   50            20000          1\n",
      "398  15755018    Male   36            33000          0\n",
      "399  15594041  Female   49            36000          1\n",
      "\n",
      "[400 rows x 5 columns]\n"
     ]
    }
   ],
   "source": [
    "print(df)"
   ]
  },
  {
   "cell_type": "code",
   "execution_count": 109,
   "id": "b59f660f",
   "metadata": {},
   "outputs": [
    {
     "name": "stdout",
     "output_type": "stream",
     "text": [
      "      User ID  Gender  Age  EstimatedSalary  Purchased\n",
      "0    15624510    Male   19            19000          0\n",
      "1    15810944    Male   35            20000          0\n",
      "2    15668575  Female   26            43000          0\n",
      "3    15603246  Female   27            57000          0\n",
      "4    15804002    Male   19            76000          0\n",
      "..        ...     ...  ...              ...        ...\n",
      "395  15691863  Female   46            41000          1\n",
      "396  15706071    Male   51            23000          1\n",
      "397  15654296  Female   50            20000          1\n",
      "398  15755018    Male   36            33000          0\n",
      "399  15594041  Female   49            36000          1\n",
      "\n",
      "[400 rows x 5 columns]\n"
     ]
    }
   ],
   "source": [
    "\n",
    "# Reorder the columns\n",
    "\n",
    "# Print the DataFrame to verify the order\n",
    "print(df)\n",
    "\n",
    "#This line adds a new column named 'Male' to the DataFrame 'df.' It checks if the 'gender' column is equal to 'Male' for each row using the == operator. This comparison results in a Boolean Series (True or False) for each row. The .astype(int) method then converts these Boolean values to integers (1 for True and 0 for False) and assigns them to the 'Male' column.\n",
    "#Similar to the previous line, this line adds a new column named 'Female' to the DataFrame 'df.' It checks if the 'gender' column is equal to 'Female' for each row, converts the Boolean values to integers, and assigns them to the 'Female' column.\n"
   ]
  },
  {
   "cell_type": "code",
   "execution_count": 110,
   "id": "a1939221",
   "metadata": {},
   "outputs": [],
   "source": [
    "df['Male'] = (df['Gender'] == 'Male').astype(int)\n",
    "df['Female'] = (df['Gender'] == 'Female').astype(int)"
   ]
  },
  {
   "cell_type": "code",
   "execution_count": null,
   "id": "42f637d4",
   "metadata": {},
   "outputs": [],
   "source": [
    "#para datasets muy pequeños, irse por lo más fácil"
   ]
  },
  {
   "cell_type": "code",
   "execution_count": null,
   "id": "68dab67e",
   "metadata": {},
   "outputs": [],
   "source": [
    "#df['Male'] = (df['gender'] == 'Male').astype(int): This line adds a new column named 'Male' to the DataFrame 'df.' It checks if the 'gender' column is equal to 'Male' for each row using the == operator. This comparison results in a Boolean Series (True or False) for each row. The .astype(int) method then converts these Boolean values to integers (1 for True and 0 for False) and assigns them to the 'Male' column.\n",
    "\n",
    "#df['Female'] = (df['gender'] == 'Female').astype(int): Similar to the previous line, this line adds a new column named 'Female' to the DataFrame 'df.' It checks if the 'gender' column is equal to 'Female' for each row, converts the Boolean values to integers, and assigns them to the 'Female' column."
   ]
  },
  {
   "cell_type": "code",
   "execution_count": null,
   "id": "ef1f416c",
   "metadata": {},
   "outputs": [],
   "source": [
    "#dummy coding: crea nuevas columnas de la columna previa categórica, es más fácil y más intuitivo para el mismo modelo, el modelo puede entenderlo m\n",
    "#dummy columns: las nuevas categorías"
   ]
  },
  {
   "cell_type": "code",
   "execution_count": 111,
   "id": "f17a959d",
   "metadata": {},
   "outputs": [],
   "source": [
    "df = df[['User ID','Male', 'Female', 'Age', 'EstimatedSalary', 'Purchased']]"
   ]
  },
  {
   "cell_type": "code",
   "execution_count": 112,
   "id": "465e7f2a",
   "metadata": {},
   "outputs": [
    {
     "name": "stdout",
     "output_type": "stream",
     "text": [
      "      User ID  Male  Female  Age  EstimatedSalary  Purchased\n",
      "0    15624510     1       0   19            19000          0\n",
      "1    15810944     1       0   35            20000          0\n",
      "2    15668575     0       1   26            43000          0\n",
      "3    15603246     0       1   27            57000          0\n",
      "4    15804002     1       0   19            76000          0\n",
      "..        ...   ...     ...  ...              ...        ...\n",
      "395  15691863     0       1   46            41000          1\n",
      "396  15706071     1       0   51            23000          1\n",
      "397  15654296     0       1   50            20000          1\n",
      "398  15755018     1       0   36            33000          0\n",
      "399  15594041     0       1   49            36000          1\n",
      "\n",
      "[400 rows x 6 columns]\n"
     ]
    }
   ],
   "source": [
    "print(df)"
   ]
  },
  {
   "cell_type": "code",
   "execution_count": 86,
   "id": "c41ceeea",
   "metadata": {},
   "outputs": [],
   "source": [
    "#df.drop(columns=\"Gender\")\n",
    "#Para eliminar una columna\n",
    "#En maxhine learning la mayoría de los datos debería estar en números\n",
    "#ya tenenmos features, nos faltan labels\n",
    "#x1 x2 x3 I  y #en este caso purchased es la y porque te ddice quien compra y quien no de acuerdo a las caracterìsticas"
   ]
  },
  {
   "cell_type": "code",
   "execution_count": 137,
   "id": "b8933f3c",
   "metadata": {},
   "outputs": [],
   "source": [
    "#Luego de labels y features, sigue dividir para entrenamiento :o (80% y 20%)\n",
    "\n",
    "#Declarar dos nuevos datasets\n",
    "\n",
    "#Se llega hasta antes de purchased pq esa sería la \"y\", entonces se limita a :4, que es el area de las columnas. Igual se podría estar usando drop\n",
    "\n",
    "dftrain = df.iloc[:319,:4]"
   ]
  },
  {
   "cell_type": "code",
   "execution_count": 138,
   "id": "35dd9925",
   "metadata": {},
   "outputs": [
    {
     "data": {
      "text/plain": [
       "(319, 4)"
      ]
     },
     "execution_count": 138,
     "metadata": {},
     "output_type": "execute_result"
    }
   ],
   "source": [
    "dftrain.shape"
   ]
  },
  {
   "cell_type": "code",
   "execution_count": 139,
   "id": "284bd66e",
   "metadata": {},
   "outputs": [
    {
     "name": "stdout",
     "output_type": "stream",
     "text": [
      "     Male  Female  Age  EstimatedSalary\n",
      "0       1       0   19            19000\n",
      "1       1       0   35            20000\n",
      "2       0       1   26            43000\n",
      "3       0       1   27            57000\n",
      "4       1       0   19            76000\n",
      "..    ...     ...  ...              ...\n",
      "314     0       1   39            79000\n",
      "315     0       1   39            75000\n",
      "316     0       1   54           104000\n",
      "317     1       0   35            55000\n",
      "318     1       0   45            32000\n",
      "\n",
      "[319 rows x 4 columns]\n"
     ]
    }
   ],
   "source": [
    "print(dftrain)"
   ]
  },
  {
   "cell_type": "code",
   "execution_count": 142,
   "id": "0e905c38",
   "metadata": {},
   "outputs": [],
   "source": [
    "dftest = df.iloc[319:,:4]"
   ]
  },
  {
   "cell_type": "code",
   "execution_count": 143,
   "id": "d988d0e2",
   "metadata": {},
   "outputs": [
    {
     "data": {
      "text/plain": [
       "(81, 4)"
      ]
     },
     "execution_count": 143,
     "metadata": {},
     "output_type": "execute_result"
    }
   ],
   "source": [
    "dftest.shape"
   ]
  },
  {
   "cell_type": "code",
   "execution_count": 144,
   "id": "d0d9cd3f",
   "metadata": {},
   "outputs": [],
   "source": [
    "y = df[\"Purchased\"]"
   ]
  },
  {
   "cell_type": "code",
   "execution_count": 145,
   "id": "30af07bd",
   "metadata": {
    "scrolled": true
   },
   "outputs": [
    {
     "name": "stdout",
     "output_type": "stream",
     "text": [
      "0      0\n",
      "1      0\n",
      "2      0\n",
      "3      0\n",
      "4      0\n",
      "      ..\n",
      "395    1\n",
      "396    1\n",
      "397    1\n",
      "398    0\n",
      "399    1\n",
      "Name: Purchased, Length: 400, dtype: int64\n"
     ]
    }
   ],
   "source": [
    "print(y)"
   ]
  },
  {
   "cell_type": "code",
   "execution_count": 127,
   "id": "5a8a106b",
   "metadata": {},
   "outputs": [],
   "source": [
    "dfytrain= y.iloc[:319]"
   ]
  },
  {
   "cell_type": "code",
   "execution_count": 128,
   "id": "8b32f5f7",
   "metadata": {},
   "outputs": [
    {
     "data": {
      "text/plain": [
       "(319,)"
      ]
     },
     "execution_count": 128,
     "metadata": {},
     "output_type": "execute_result"
    }
   ],
   "source": [
    "dfytrain.shape"
   ]
  },
  {
   "cell_type": "code",
   "execution_count": null,
   "id": "047c334c",
   "metadata": {},
   "outputs": [],
   "source": [
    "# La coma única en (319,) indica que es una tupla con un solo valor, que es la longitud de la estructura unidimensional."
   ]
  },
  {
   "cell_type": "code",
   "execution_count": 95,
   "id": "1d033128",
   "metadata": {},
   "outputs": [],
   "source": [
    "dfytest= y.iloc[319:]"
   ]
  },
  {
   "cell_type": "code",
   "execution_count": 96,
   "id": "31d966e5",
   "metadata": {},
   "outputs": [
    {
     "data": {
      "text/plain": [
       "(81,)"
      ]
     },
     "execution_count": 96,
     "metadata": {},
     "output_type": "execute_result"
    }
   ],
   "source": [
    "dfytest.shape"
   ]
  },
  {
   "cell_type": "code",
   "execution_count": 74,
   "id": "d3012047",
   "metadata": {},
   "outputs": [],
   "source": [
    "#LIBRERIA SCKIT-LEARN\n",
    "import sklearn"
   ]
  },
  {
   "cell_type": "code",
   "execution_count": 119,
   "id": "23f81b92",
   "metadata": {},
   "outputs": [
    {
     "name": "stdout",
     "output_type": "stream",
     "text": [
      "     Male  Female  Age  EstimatedSalary  Purchased\n",
      "0       1       0   19            19000          0\n",
      "1       1       0   35            20000          0\n",
      "2       0       1   26            43000          0\n",
      "3       0       1   27            57000          0\n",
      "4       1       0   19            76000          0\n",
      "..    ...     ...  ...              ...        ...\n",
      "395     0       1   46            41000          1\n",
      "396     1       0   51            23000          1\n",
      "397     0       1   50            20000          1\n",
      "398     1       0   36            33000          0\n",
      "399     0       1   49            36000          1\n",
      "\n",
      "[400 rows x 5 columns]\n"
     ]
    }
   ],
   "source": [
    "#df = df.drop(columns=['User ID']) para borrar User ID\n",
    "print(df)"
   ]
  },
  {
   "cell_type": "code",
   "execution_count": 147,
   "id": "461883cd",
   "metadata": {},
   "outputs": [
    {
     "name": "stdout",
     "output_type": "stream",
     "text": [
      "     Male  Female  Age  EstimatedSalary\n",
      "319     1       0   36            60000\n",
      "320     0       1   52           138000\n",
      "321     0       1   53            82000\n",
      "322     1       0   41            52000\n",
      "323     0       1   48            30000\n",
      "..    ...     ...  ...              ...\n",
      "395     0       1   46            41000\n",
      "396     1       0   51            23000\n",
      "397     0       1   50            20000\n",
      "398     1       0   36            33000\n",
      "399     0       1   49            36000\n",
      "\n",
      "[81 rows x 4 columns]\n"
     ]
    }
   ],
   "source": [
    "print(dftest)"
   ]
  },
  {
   "cell_type": "code",
   "execution_count": 148,
   "id": "f2ec9e11",
   "metadata": {},
   "outputs": [
    {
     "name": "stdout",
     "output_type": "stream",
     "text": [
      "     Male  Female  Age  EstimatedSalary\n",
      "0       1       0   19            19000\n",
      "1       1       0   35            20000\n",
      "2       0       1   26            43000\n",
      "3       0       1   27            57000\n",
      "4       1       0   19            76000\n",
      "..    ...     ...  ...              ...\n",
      "314     0       1   39            79000\n",
      "315     0       1   39            75000\n",
      "316     0       1   54           104000\n",
      "317     1       0   35            55000\n",
      "318     1       0   45            32000\n",
      "\n",
      "[319 rows x 4 columns]\n"
     ]
    }
   ],
   "source": [
    "print(dftrain)"
   ]
  },
  {
   "cell_type": "code",
   "execution_count": 149,
   "id": "1a3a863f",
   "metadata": {},
   "outputs": [
    {
     "name": "stdout",
     "output_type": "stream",
     "text": [
      "0      0\n",
      "1      0\n",
      "2      0\n",
      "3      0\n",
      "4      0\n",
      "      ..\n",
      "314    0\n",
      "315    1\n",
      "316    1\n",
      "317    0\n",
      "318    1\n",
      "Name: Purchased, Length: 319, dtype: int64\n"
     ]
    }
   ],
   "source": [
    "print(dfytrain)"
   ]
  },
  {
   "cell_type": "code",
   "execution_count": 150,
   "id": "7c10d048",
   "metadata": {},
   "outputs": [
    {
     "name": "stdout",
     "output_type": "stream",
     "text": [
      "319    0\n",
      "320    1\n",
      "321    1\n",
      "322    0\n",
      "323    1\n",
      "      ..\n",
      "395    1\n",
      "396    1\n",
      "397    1\n",
      "398    0\n",
      "399    1\n",
      "Name: Purchased, Length: 81, dtype: int64\n"
     ]
    }
   ],
   "source": [
    "print(dfytest)"
   ]
  },
  {
   "cell_type": "code",
   "execution_count": 151,
   "id": "4164972c",
   "metadata": {},
   "outputs": [],
   "source": [
    "#from sklearn.datasets import load_digits\n",
    "from sklearn.linear_model import Perceptron\n",
    "#dftrain,dfytrain = load_digits(return_X_y=True)\n",
    "clf = Perceptron(tol=1e-3, random_state=0)\n",
    "#declaramos objeto clasificador"
   ]
  },
  {
   "cell_type": "code",
   "execution_count": 152,
   "id": "8d2fc2c0",
   "metadata": {},
   "outputs": [
    {
     "data": {
      "text/html": [
       "<style>#sk-container-id-1 {color: black;background-color: white;}#sk-container-id-1 pre{padding: 0;}#sk-container-id-1 div.sk-toggleable {background-color: white;}#sk-container-id-1 label.sk-toggleable__label {cursor: pointer;display: block;width: 100%;margin-bottom: 0;padding: 0.3em;box-sizing: border-box;text-align: center;}#sk-container-id-1 label.sk-toggleable__label-arrow:before {content: \"▸\";float: left;margin-right: 0.25em;color: #696969;}#sk-container-id-1 label.sk-toggleable__label-arrow:hover:before {color: black;}#sk-container-id-1 div.sk-estimator:hover label.sk-toggleable__label-arrow:before {color: black;}#sk-container-id-1 div.sk-toggleable__content {max-height: 0;max-width: 0;overflow: hidden;text-align: left;background-color: #f0f8ff;}#sk-container-id-1 div.sk-toggleable__content pre {margin: 0.2em;color: black;border-radius: 0.25em;background-color: #f0f8ff;}#sk-container-id-1 input.sk-toggleable__control:checked~div.sk-toggleable__content {max-height: 200px;max-width: 100%;overflow: auto;}#sk-container-id-1 input.sk-toggleable__control:checked~label.sk-toggleable__label-arrow:before {content: \"▾\";}#sk-container-id-1 div.sk-estimator input.sk-toggleable__control:checked~label.sk-toggleable__label {background-color: #d4ebff;}#sk-container-id-1 div.sk-label input.sk-toggleable__control:checked~label.sk-toggleable__label {background-color: #d4ebff;}#sk-container-id-1 input.sk-hidden--visually {border: 0;clip: rect(1px 1px 1px 1px);clip: rect(1px, 1px, 1px, 1px);height: 1px;margin: -1px;overflow: hidden;padding: 0;position: absolute;width: 1px;}#sk-container-id-1 div.sk-estimator {font-family: monospace;background-color: #f0f8ff;border: 1px dotted black;border-radius: 0.25em;box-sizing: border-box;margin-bottom: 0.5em;}#sk-container-id-1 div.sk-estimator:hover {background-color: #d4ebff;}#sk-container-id-1 div.sk-parallel-item::after {content: \"\";width: 100%;border-bottom: 1px solid gray;flex-grow: 1;}#sk-container-id-1 div.sk-label:hover label.sk-toggleable__label {background-color: #d4ebff;}#sk-container-id-1 div.sk-serial::before {content: \"\";position: absolute;border-left: 1px solid gray;box-sizing: border-box;top: 0;bottom: 0;left: 50%;z-index: 0;}#sk-container-id-1 div.sk-serial {display: flex;flex-direction: column;align-items: center;background-color: white;padding-right: 0.2em;padding-left: 0.2em;position: relative;}#sk-container-id-1 div.sk-item {position: relative;z-index: 1;}#sk-container-id-1 div.sk-parallel {display: flex;align-items: stretch;justify-content: center;background-color: white;position: relative;}#sk-container-id-1 div.sk-item::before, #sk-container-id-1 div.sk-parallel-item::before {content: \"\";position: absolute;border-left: 1px solid gray;box-sizing: border-box;top: 0;bottom: 0;left: 50%;z-index: -1;}#sk-container-id-1 div.sk-parallel-item {display: flex;flex-direction: column;z-index: 1;position: relative;background-color: white;}#sk-container-id-1 div.sk-parallel-item:first-child::after {align-self: flex-end;width: 50%;}#sk-container-id-1 div.sk-parallel-item:last-child::after {align-self: flex-start;width: 50%;}#sk-container-id-1 div.sk-parallel-item:only-child::after {width: 0;}#sk-container-id-1 div.sk-dashed-wrapped {border: 1px dashed gray;margin: 0 0.4em 0.5em 0.4em;box-sizing: border-box;padding-bottom: 0.4em;background-color: white;}#sk-container-id-1 div.sk-label label {font-family: monospace;font-weight: bold;display: inline-block;line-height: 1.2em;}#sk-container-id-1 div.sk-label-container {text-align: center;}#sk-container-id-1 div.sk-container {/* jupyter's `normalize.less` sets `[hidden] { display: none; }` but bootstrap.min.css set `[hidden] { display: none !important; }` so we also need the `!important` here to be able to override the default hidden behavior on the sphinx rendered scikit-learn.org. See: https://github.com/scikit-learn/scikit-learn/issues/21755 */display: inline-block !important;position: relative;}#sk-container-id-1 div.sk-text-repr-fallback {display: none;}</style><div id=\"sk-container-id-1\" class=\"sk-top-container\"><div class=\"sk-text-repr-fallback\"><pre>Perceptron()</pre><b>In a Jupyter environment, please rerun this cell to show the HTML representation or trust the notebook. <br />On GitHub, the HTML representation is unable to render, please try loading this page with nbviewer.org.</b></div><div class=\"sk-container\" hidden><div class=\"sk-item\"><div class=\"sk-estimator sk-toggleable\"><input class=\"sk-toggleable__control sk-hidden--visually\" id=\"sk-estimator-id-1\" type=\"checkbox\" checked><label for=\"sk-estimator-id-1\" class=\"sk-toggleable__label sk-toggleable__label-arrow\">Perceptron</label><div class=\"sk-toggleable__content\"><pre>Perceptron()</pre></div></div></div></div></div>"
      ],
      "text/plain": [
       "Perceptron()"
      ]
     },
     "execution_count": 152,
     "metadata": {},
     "output_type": "execute_result"
    }
   ],
   "source": [
    "clf.fit(dftrain, dfytrain)\n",
    "#usamos el clasificador"
   ]
  },
  {
   "cell_type": "code",
   "execution_count": 157,
   "id": "90222366",
   "metadata": {},
   "outputs": [
    {
     "data": {
      "text/plain": [
       "0.7115987460815048"
      ]
     },
     "execution_count": 157,
     "metadata": {},
     "output_type": "execute_result"
    }
   ],
   "source": [
    "clf.score(dftrain, dfytrain)\n",
    "#nos da el accuracy, la métrica de predicción, en este caso, tenemos 71% de exactitud"
   ]
  },
  {
   "cell_type": "code",
   "execution_count": 158,
   "id": "2bdf0689",
   "metadata": {},
   "outputs": [
    {
     "data": {
      "text/plain": [
       "array([0, 0, 0, 0, 0, 0, 0, 0, 0, 0, 0, 0, 0, 0, 0, 0, 0, 0, 0, 0, 0, 0,\n",
       "       0, 0, 0, 0, 0, 0, 0, 0, 0, 0, 0, 0, 0, 0, 0, 0, 0, 0, 0, 0, 0, 0,\n",
       "       0, 0, 0, 0, 0, 0, 0, 0, 0, 0, 0, 0, 0, 0, 0, 0, 0, 0, 0, 0, 0, 0,\n",
       "       0, 0, 0, 0, 0, 0, 0, 0, 0, 0, 0, 0, 0, 0, 0], dtype=int64)"
      ]
     },
     "execution_count": 158,
     "metadata": {},
     "output_type": "execute_result"
    }
   ],
   "source": [
    "clf.predict(dftest)\n",
    "#array de los resultados esperados"
   ]
  },
  {
   "cell_type": "code",
   "execution_count": 159,
   "id": "c9f26040",
   "metadata": {},
   "outputs": [
    {
     "name": "stdout",
     "output_type": "stream",
     "text": [
      "319    0\n",
      "320    1\n",
      "321    1\n",
      "322    0\n",
      "323    1\n",
      "      ..\n",
      "395    1\n",
      "396    1\n",
      "397    1\n",
      "398    0\n",
      "399    1\n",
      "Name: Purchased, Length: 81, dtype: int64\n"
     ]
    }
   ],
   "source": [
    "print(dfytest)\n",
    "#No that good"
   ]
  },
  {
   "cell_type": "code",
   "execution_count": null,
   "id": "2ca62465",
   "metadata": {},
   "outputs": [],
   "source": []
  }
 ],
 "metadata": {
  "kernelspec": {
   "display_name": "Python 3 (ipykernel)",
   "language": "python",
   "name": "python3"
  },
  "language_info": {
   "codemirror_mode": {
    "name": "ipython",
    "version": 3
   },
   "file_extension": ".py",
   "mimetype": "text/x-python",
   "name": "python",
   "nbconvert_exporter": "python",
   "pygments_lexer": "ipython3",
   "version": "3.11.3"
  }
 },
 "nbformat": 4,
 "nbformat_minor": 5
}
